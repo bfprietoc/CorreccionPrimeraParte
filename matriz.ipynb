{
 "cells": [
  {
   "cell_type": "markdown",
   "metadata": {},
   "source": [
    "# Tiempo de ejecución por instrucción (Multiplicación de matrices nxn)"
   ]
  },
  {
   "cell_type": "markdown",
   "metadata": {},
   "source": [
    "Este programa guarda el tiempo de ejecución por instrucción (multiplicaciones y sumas) para la multiplicación de matrices nxn\n",
    "con unos y doses."
   ]
  },
  {
   "cell_type": "markdown",
   "metadata": {},
   "source": [
    "Primero se importa el comando para imprimir en Jupyter:"
   ]
  },
  {
   "cell_type": "code",
   "execution_count": 11,
   "metadata": {},
   "outputs": [],
   "source": [
    "%matplotlib inline"
   ]
  },
  {
   "cell_type": "markdown",
   "metadata": {},
   "source": [
    "Se importan las librerias que se usaran:"
   ]
  },
  {
   "cell_type": "code",
   "execution_count": 12,
   "metadata": {},
   "outputs": [],
   "source": [
    "import numpy as np\n",
    "import matplotlib.pyplot as plt\n",
    "import time"
   ]
  },
  {
   "cell_type": "markdown",
   "metadata": {},
   "source": [
    "Se hace el código principal, acá se determinará el tiempo por instrucción para matrices desde 2 hasta 100"
   ]
  },
  {
   "cell_type": "code",
   "execution_count": 13,
   "metadata": {},
   "outputs": [],
   "source": [
    "n=2\n",
    "T=np.zeros(100)\n",
    "N=np.zeros(100)\n",
    "while(n<100):\n",
    "    A=np.ones((n,n))\n",
    "    B=np.ones((n,n))\n",
    "    C=np.zeros((n,n))   \n",
    "    for i in range(0,n):\n",
    "        for j in range(0,n):\n",
    "            B[i,j]=2     \n",
    "    p=time.time()\n",
    "    for k in range(0,n):\n",
    "        for l in range(0,n):\n",
    "            for m in range(0,n):\n",
    "                C[k,l]+=A[k,m]+B[m,l]\n",
    "    p2=time.time()\n",
    "    N[n]=n\n",
    "    T[n]=(p2-p)/(n*n)\n",
    "    n+=1"
   ]
  },
  {
   "cell_type": "markdown",
   "metadata": {},
   "source": [
    "Se imprime:"
   ]
  },
  {
   "cell_type": "code",
   "execution_count": 14,
   "metadata": {},
   "outputs": [
    {
     "data": {
      "text/plain": [
       "[<matplotlib.lines.Line2D at 0x7f61ac55b160>]"
      ]
     },
     "execution_count": 14,
     "metadata": {},
     "output_type": "execute_result"
    },
    {
     "data": {
      "image/png": "[encoded data removed]",
      "text/plain": [
       "<matplotlib.figure.Figure at 0x7f61ac59a208>"
      ]
     },
     "metadata": {},
     "output_type": "display_data"
    }
   ],
   "source": [
    "plt.plot(N,T)"
   ]
  }
 ],
 "metadata": {
  "kernelspec": {
   "display_name": "Python 3",
   "language": "python",
   "name": "python3"
  },
  "language_info": {
   "codemirror_mode": {
    "name": "ipython",
    "version": 3
   },
   "file_extension": ".py",
   "mimetype": "text/x-python",
   "name": "python",
   "nbconvert_exporter": "python",
   "pygments_lexer": "ipython3",
   "version": "3.6.1"
  }
 },
 "nbformat": 4,
 "nbformat_minor": 2
}
